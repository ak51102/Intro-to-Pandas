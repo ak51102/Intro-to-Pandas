{
  "nbformat": 4,
  "nbformat_minor": 0,
  "metadata": {
    "colab": {
      "name": "P2 Pandas Data Prep with Answers.ipynb",
      "provenance": [],
      "private_outputs": true,
      "collapsed_sections": [],
      "authorship_tag": "ABX9TyMN8OL0hXVb9wH4F2OFPdAv",
      "include_colab_link": true
    },
    "kernelspec": {
      "name": "python3",
      "display_name": "Python 3"
    }
  },
  "cells": [
    {
      "cell_type": "markdown",
      "metadata": {
        "id": "view-in-github",
        "colab_type": "text"
      },
      "source": [
        "<a href=\"https://colab.research.google.com/github/cagBRT/Intro-to-Pandas/blob/master/P2_Pandas_Data_Prep.ipynb\" target=\"_parent\"><img src=\"https://colab.research.google.com/assets/colab-badge.svg\" alt=\"Open In Colab\"/></a>"
      ]
    },
    {
      "cell_type": "markdown",
      "metadata": {
        "id": "7ODK5MbksU4c",
        "colab_type": "text"
      },
      "source": [
        "# **Practice Preparing Data for a Machiine Learning Model**"
      ]
    },
    {
      "cell_type": "markdown",
      "metadata": {
        "id": "K1Xs-hgfTXfo",
        "colab_type": "text"
      },
      "source": [
        "**Import the Pandas library**"
      ]
    },
    {
      "cell_type": "code",
      "metadata": {
        "id": "wJDAILYclOuI",
        "colab_type": "code",
        "colab": {}
      },
      "source": [
        ""
      ],
      "execution_count": 0,
      "outputs": []
    },
    {
      "cell_type": "markdown",
      "metadata": {
        "id": "JHPsazp2Ta2a",
        "colab_type": "text"
      },
      "source": [
        "**Create a training set with the train.csv file**<br>\n",
        "**Create a test set with the test.csv file** "
      ]
    },
    {
      "cell_type": "code",
      "metadata": {
        "id": "5n7NOrHylPwc",
        "colab_type": "code",
        "colab": {}
      },
      "source": [
        ""
      ],
      "execution_count": 0,
      "outputs": []
    },
    {
      "cell_type": "markdown",
      "metadata": {
        "id": "M-J6w2EOUNsX",
        "colab_type": "text"
      },
      "source": [
        "**Check the datasets**. <br>\n",
        "How many columns are in the dataset?"
      ]
    },
    {
      "cell_type": "code",
      "metadata": {
        "id": "gt5U9TVSla0G",
        "colab_type": "code",
        "colab": {}
      },
      "source": [
        ""
      ],
      "execution_count": 0,
      "outputs": []
    },
    {
      "cell_type": "markdown",
      "metadata": {
        "id": "y253VZRWUwMn",
        "colab_type": "text"
      },
      "source": [
        "**Look at the shape of both the test and training sets**"
      ]
    },
    {
      "cell_type": "code",
      "metadata": {
        "id": "_vBJ_sONldU1",
        "colab_type": "code",
        "colab": {}
      },
      "source": [
        ""
      ],
      "execution_count": 0,
      "outputs": []
    },
    {
      "cell_type": "markdown",
      "metadata": {
        "id": "eGhhhAUrVAmA",
        "colab_type": "text"
      },
      "source": [
        "**Check for missing values in both sets**"
      ]
    },
    {
      "cell_type": "code",
      "metadata": {
        "id": "8pST-zQZlnr4",
        "colab_type": "code",
        "colab": {}
      },
      "source": [
        ""
      ],
      "execution_count": 0,
      "outputs": []
    },
    {
      "cell_type": "markdown",
      "metadata": {
        "id": "JbwHg3TzVPqz",
        "colab_type": "text"
      },
      "source": [
        "**How many values are missing for each feature (column)?**"
      ]
    },
    {
      "cell_type": "code",
      "metadata": {
        "id": "FP3O6izylo29",
        "colab_type": "code",
        "colab": {}
      },
      "source": [
        ""
      ],
      "execution_count": 0,
      "outputs": []
    },
    {
      "cell_type": "markdown",
      "metadata": {
        "id": "T3gAbr1iVtKT",
        "colab_type": "text"
      },
      "source": [
        "**How many unique values are in each feature? **"
      ]
    },
    {
      "cell_type": "code",
      "metadata": {
        "id": "NJTxeMj7lxo1",
        "colab_type": "code",
        "colab": {}
      },
      "source": [
        ""
      ],
      "execution_count": 0,
      "outputs": []
    },
    {
      "cell_type": "markdown",
      "metadata": {
        "id": "Xoru8Is4l2ad",
        "colab_type": "text"
      },
      "source": [
        "**Fill in the missing values: **\n",
        "<br>\n",
        "workclass: fill missing values with Private<br>\n",
        "occupation: fill missing values with Prof-specialty<br>\n",
        "native country: fill missing values with United-States<br>\n"
      ]
    },
    {
      "cell_type": "markdown",
      "metadata": {
        "id": "RsD2yWv4mgoF",
        "colab_type": "text"
      },
      "source": [
        "**Check again that all missing values have been filled in**"
      ]
    },
    {
      "cell_type": "markdown",
      "metadata": {
        "id": "dqFlh3zYpteN",
        "colab_type": "text"
      },
      "source": [
        "**Are the training and test sets have similar distributions? **"
      ]
    },
    {
      "cell_type": "code",
      "metadata": {
        "id": "EXr8VIZ6pmrP",
        "colab_type": "code",
        "cellView": "form",
        "colab": {}
      },
      "source": [
        "#@title\n",
        "test_stats = test.describe()\n",
        "test_stats = test_stats.transpose()\n",
        "test_stats"
      ],
      "execution_count": 0,
      "outputs": []
    },
    {
      "cell_type": "markdown",
      "metadata": {
        "id": "1MoYxalxp_lZ",
        "colab_type": "text"
      },
      "source": [
        "**Do have a balanced dataset?**"
      ]
    },
    {
      "cell_type": "markdown",
      "metadata": {
        "id": "KwKBT4qLrpVl",
        "colab_type": "text"
      },
      "source": [
        "Try the Crosstab function in Pandas. <br>\n",
        "Google Pandas Crosstab to learn more about it. "
      ]
    },
    {
      "cell_type": "code",
      "metadata": {
        "id": "kqDwmaPQHOJ9",
        "colab_type": "code",
        "colab": {}
      },
      "source": [
        "pd.crosstab(train.education, train.target,margins=True)/train.shape[0]"
      ],
      "execution_count": 0,
      "outputs": []
    }
  ]
}