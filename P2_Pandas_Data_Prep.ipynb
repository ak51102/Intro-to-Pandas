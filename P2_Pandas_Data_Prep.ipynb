{
  "nbformat": 4,
  "nbformat_minor": 0,
  "metadata": {
    "colab": {
      "name": "P2 Pandas Data Prep with Answers.ipynb",
      "provenance": [],
      "private_outputs": true,
      "collapsed_sections": [],
      "authorship_tag": "ABX9TyP9d5hMrnfFlk3vLQUmBqSf",
      "include_colab_link": true
    },
    "kernelspec": {
      "name": "python3",
      "display_name": "Python 3"
    }
  },
  "cells": [
    {
      "cell_type": "markdown",
      "metadata": {
        "id": "view-in-github",
        "colab_type": "text"
      },
      "source": [
        "<a href=\"https://colab.research.google.com/github/cagBRT/Intro-to-Pandas/blob/master/P2_Pandas_Data_Prep.ipynb\" target=\"_parent\"><img src=\"https://colab.research.google.com/assets/colab-badge.svg\" alt=\"Open In Colab\"/></a>"
      ]
    },
    {
      "cell_type": "markdown",
      "metadata": {
        "id": "7ODK5MbksU4c",
        "colab_type": "text"
      },
      "source": [
        "# **Practice Preparing Data for a Machiine Learning Model**"
      ]
    },
    {
      "cell_type": "markdown",
      "metadata": {
        "id": "K1Xs-hgfTXfo",
        "colab_type": "text"
      },
      "source": [
        "**Import the Pandas library**"
      ]
    },
    {
      "cell_type": "code",
      "metadata": {
        "id": "wJDAILYclOuI",
        "colab_type": "code",
        "colab": {}
      },
      "source": [
        ""
      ],
      "execution_count": 0,
      "outputs": []
    },
    {
      "cell_type": "code",
      "metadata": {
        "id": "NBbp3nRCGCRY",
        "colab_type": "code",
        "colab": {},
        "cellView": "form"
      },
      "source": [
        "#@title\n",
        "import pandas as pd"
      ],
      "execution_count": 0,
      "outputs": []
    },
    {
      "cell_type": "markdown",
      "metadata": {
        "id": "JHPsazp2Ta2a",
        "colab_type": "text"
      },
      "source": [
        "**Create a training set with the train.csv file**<br>\n",
        "**Create a test set with the test.csv file** "
      ]
    },
    {
      "cell_type": "code",
      "metadata": {
        "id": "5n7NOrHylPwc",
        "colab_type": "code",
        "colab": {}
      },
      "source": [
        ""
      ],
      "execution_count": 0,
      "outputs": []
    },
    {
      "cell_type": "code",
      "metadata": {
        "id": "MySlgwf7F7_2",
        "colab_type": "code",
        "colab": {},
        "cellView": "form"
      },
      "source": [
        "#@title\n",
        "#load the data\n",
        "train  = pd.read_csv(\"train.csv\")\n",
        "test = pd.read_csv(\"test.csv\")"
      ],
      "execution_count": 0,
      "outputs": []
    },
    {
      "cell_type": "markdown",
      "metadata": {
        "id": "M-J6w2EOUNsX",
        "colab_type": "text"
      },
      "source": [
        "**Check the datasets**. <br>\n",
        "How many columns are in the dataset?"
      ]
    },
    {
      "cell_type": "code",
      "metadata": {
        "id": "gt5U9TVSla0G",
        "colab_type": "code",
        "colab": {}
      },
      "source": [
        ""
      ],
      "execution_count": 0,
      "outputs": []
    },
    {
      "cell_type": "code",
      "metadata": {
        "id": "bmu85ZF3GQHq",
        "colab_type": "code",
        "colab": {},
        "cellView": "form"
      },
      "source": [
        "#@title\n",
        "#check data set\n",
        "train.info()"
      ],
      "execution_count": 0,
      "outputs": []
    },
    {
      "cell_type": "markdown",
      "metadata": {
        "id": "y253VZRWUwMn",
        "colab_type": "text"
      },
      "source": [
        "**Look at the shape of both the test and training sets**"
      ]
    },
    {
      "cell_type": "code",
      "metadata": {
        "id": "_vBJ_sONldU1",
        "colab_type": "code",
        "colab": {}
      },
      "source": [
        ""
      ],
      "execution_count": 0,
      "outputs": []
    },
    {
      "cell_type": "code",
      "metadata": {
        "id": "z_H-tPPJGTmH",
        "colab_type": "code",
        "colab": {},
        "cellView": "form"
      },
      "source": [
        "#@title\n",
        "print (\"The train data has\",train.shape)\n",
        "print (\"The test data has\",test.shape)\n",
        "('The train data has', (32561, 15))\n",
        "('The test data has', (16281, 15))\n",
        "\n",
        "\n",
        "#Let have a glimpse of the data set\n",
        "train.head()"
      ],
      "execution_count": 0,
      "outputs": []
    },
    {
      "cell_type": "markdown",
      "metadata": {
        "id": "eGhhhAUrVAmA",
        "colab_type": "text"
      },
      "source": [
        "**Check for missing values in both sets**"
      ]
    },
    {
      "cell_type": "code",
      "metadata": {
        "id": "8pST-zQZlnr4",
        "colab_type": "code",
        "colab": {}
      },
      "source": [
        ""
      ],
      "execution_count": 0,
      "outputs": []
    },
    {
      "cell_type": "code",
      "metadata": {
        "id": "78u28uZiGb9j",
        "colab_type": "code",
        "colab": {},
        "cellView": "form"
      },
      "source": [
        "#@title\n",
        "nans = train.shape[0] - train.dropna().shape[0]\n",
        "print (\"%d rows have missing values in the train data\" %nans)\n",
        "\n",
        "nand = test.shape[0] - test.dropna().shape[0]\n",
        "print (\"%d rows have missing values in the test data\" %nand)"
      ],
      "execution_count": 0,
      "outputs": []
    },
    {
      "cell_type": "markdown",
      "metadata": {
        "id": "JbwHg3TzVPqz",
        "colab_type": "text"
      },
      "source": [
        "**How many values are missing for each feature (column)?**"
      ]
    },
    {
      "cell_type": "code",
      "metadata": {
        "id": "FP3O6izylo29",
        "colab_type": "code",
        "colab": {}
      },
      "source": [
        ""
      ],
      "execution_count": 0,
      "outputs": []
    },
    {
      "cell_type": "code",
      "metadata": {
        "id": "ihUDL0AmGuf1",
        "colab_type": "code",
        "colab": {},
        "cellView": "form"
      },
      "source": [
        "#@title\n",
        "#only 3 columns have missing values\n",
        "train.isnull().sum()"
      ],
      "execution_count": 0,
      "outputs": []
    },
    {
      "cell_type": "markdown",
      "metadata": {
        "id": "T3gAbr1iVtKT",
        "colab_type": "text"
      },
      "source": [
        "**How many unique values are in each feature? **"
      ]
    },
    {
      "cell_type": "code",
      "metadata": {
        "id": "NJTxeMj7lxo1",
        "colab_type": "code",
        "colab": {}
      },
      "source": [
        ""
      ],
      "execution_count": 0,
      "outputs": []
    },
    {
      "cell_type": "code",
      "metadata": {
        "id": "1KLBXOeSGy_u",
        "colab_type": "code",
        "colab": {},
        "cellView": "form"
      },
      "source": [
        "#@title\n",
        "cat = train.select_dtypes(include=['O'])\n",
        "cat.apply(pd.Series.nunique)"
      ],
      "execution_count": 0,
      "outputs": []
    },
    {
      "cell_type": "markdown",
      "metadata": {
        "id": "Xoru8Is4l2ad",
        "colab_type": "text"
      },
      "source": [
        "**Fill in the missing values: **\n",
        "<br>\n",
        "workclass: fill missing values with Private<br>\n",
        "occupation: fill missing values with Prof-specialty<br>\n",
        "native country: fill missing values with United-States<br>\n"
      ]
    },
    {
      "cell_type": "code",
      "metadata": {
        "id": "xoNYWUbVG89d",
        "colab_type": "code",
        "colab": {},
        "cellView": "form"
      },
      "source": [
        "#@title\n",
        "#Education\n",
        "train.workclass.value_counts(sort=True)\n",
        "train.workclass.fillna('Private',inplace=True)\n",
        "\n",
        "#Occupation\n",
        "train.occupation.value_counts(sort=True)\n",
        "train.occupation.fillna('Prof-specialty',inplace=True)\n",
        "\n",
        "#Native Country\n",
        "train['native.country'].value_counts(sort=True)\n",
        "train['native.country'].fillna('United-States',inplace=True)"
      ],
      "execution_count": 0,
      "outputs": []
    },
    {
      "cell_type": "markdown",
      "metadata": {
        "id": "RsD2yWv4mgoF",
        "colab_type": "text"
      },
      "source": [
        "**Check again that all missing values have been filled in**"
      ]
    },
    {
      "cell_type": "code",
      "metadata": {
        "id": "G-tXoz5AHA1B",
        "colab_type": "code",
        "colab": {},
        "cellView": "form"
      },
      "source": [
        "#@title\n",
        "train.isnull().sum()"
      ],
      "execution_count": 0,
      "outputs": []
    },
    {
      "cell_type": "markdown",
      "metadata": {
        "id": "dqFlh3zYpteN",
        "colab_type": "text"
      },
      "source": [
        "**Are the training and test sets have similar distributions? **"
      ]
    },
    {
      "cell_type": "code",
      "metadata": {
        "id": "vEYAZ3UDnfms",
        "colab_type": "code",
        "colab": {},
        "cellView": "form"
      },
      "source": [
        "#@title\n",
        "train_stats = train.describe()\n",
        "train_stats = train_stats.transpose()\n",
        "train_stats"
      ],
      "execution_count": 0,
      "outputs": []
    },
    {
      "cell_type": "code",
      "metadata": {
        "id": "EXr8VIZ6pmrP",
        "colab_type": "code",
        "colab": {},
        "cellView": "form"
      },
      "source": [
        "#@title\n",
        "test_stats = test.describe()\n",
        "test_stats = test_stats.transpose()\n",
        "test_stats"
      ],
      "execution_count": 0,
      "outputs": []
    },
    {
      "cell_type": "markdown",
      "metadata": {
        "id": "1MoYxalxp_lZ",
        "colab_type": "text"
      },
      "source": [
        "**Do have a balanced dataset?**"
      ]
    },
    {
      "cell_type": "code",
      "metadata": {
        "id": "u94m2LVeHE04",
        "colab_type": "code",
        "colab": {},
        "cellView": "form"
      },
      "source": [
        "#@title\n",
        "#check proportion of target variable\n",
        "train.target.value_counts()/train.shape[0]"
      ],
      "execution_count": 0,
      "outputs": []
    },
    {
      "cell_type": "markdown",
      "metadata": {
        "id": "KwKBT4qLrpVl",
        "colab_type": "text"
      },
      "source": [
        ""
      ]
    },
    {
      "cell_type": "code",
      "metadata": {
        "id": "kqDwmaPQHOJ9",
        "colab_type": "code",
        "colab": {}
      },
      "source": [
        "pd.crosstab(train.education, train.target,margins=True)/train.shape[0]"
      ],
      "execution_count": 0,
      "outputs": []
    },
    {
      "cell_type": "markdown",
      "metadata": {
        "id": "cd-jco44GbFd",
        "colab_type": "text"
      },
      "source": [
        "https://www.hackerearth.com/practice/machine-learning/data-manipulation-visualisation-r-python/tutorial-data-manipulation-numpy-pandas-python/tutorial/"
      ]
    }
  ]
}