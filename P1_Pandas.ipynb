{
  "nbformat": 4,
  "nbformat_minor": 0,
  "metadata": {
    "colab": {
      "name": "P1 Pandas.ipynb",
      "provenance": [],
      "private_outputs": true,
      "collapsed_sections": [],
      "authorship_tag": "ABX9TyMLJICCL+tVZ8inQQQ4XU9E",
      "include_colab_link": true
    },
    "kernelspec": {
      "name": "python3",
      "display_name": "Python 3"
    }
  },
  "cells": [
    {
      "cell_type": "markdown",
      "metadata": {
        "id": "view-in-github",
        "colab_type": "text"
      },
      "source": [
        "<a href=\"https://colab.research.google.com/github/cagBRT/Intro-to-Pandas/blob/master/P1_Pandas.ipynb\" target=\"_parent\"><img src=\"https://colab.research.google.com/assets/colab-badge.svg\" alt=\"Open In Colab\"/></a>"
      ]
    },
    {
      "cell_type": "markdown",
      "metadata": {
        "id": "fW-iQO9j2Vy7",
        "colab_type": "text"
      },
      "source": [
        "The data manipulation capabilities of pandas are built on top of the numpy library. In a way, numpy is a dependency of the pandas library.<br>\n",
        "Pandas is best at handling tabular data sets comprising different variable types (integer, float, double, etc.). In addition, the pandas library can also be used to perform even the most naive of tasks such as loading data or doing feature engineering on time series data.<br>\n"
      ]
    },
    {
      "cell_type": "markdown",
      "metadata": {
        "id": "eE9RAqBjNvPm",
        "colab_type": "text"
      },
      "source": [
        "https://www.learndatasci.com/tutorials/python-pandas-tutorial-complete-introduction-for-beginners/\n"
      ]
    },
    {
      "cell_type": "markdown",
      "metadata": {
        "id": "Z5X5dSIPU9LH",
        "colab_type": "text"
      },
      "source": [
        "https://www.hackerearth.com/practice/machine-learning/data-manipulation-visualisation-r-python/tutorial-data-manipulation-numpy-pandas-python/tutorial/\n"
      ]
    },
    {
      "cell_type": "code",
      "metadata": {
        "id": "mfVrbia1NjyT",
        "colab_type": "code",
        "colab": {}
      },
      "source": [
        "# Clone the entire repo.\n",
        "!git clone -l -s https://github.com/cagBRT/Intro-to-Pandas.git cloned-repo\n",
        "%cd cloned-repo\n",
        "!ls"
      ],
      "execution_count": 0,
      "outputs": []
    },
    {
      "cell_type": "code",
      "metadata": {
        "id": "pTXRUnfJN8hq",
        "colab_type": "code",
        "colab": {}
      },
      "source": [
        "from IPython.display import Image\n",
        "def page(num):\n",
        "    return Image(\"c8-content/c8PythonProgramming\"+str(num)+ \".png\" , width=640)"
      ],
      "execution_count": 0,
      "outputs": []
    },
    {
      "cell_type": "code",
      "metadata": {
        "id": "A-A2ngKXx7K0",
        "colab_type": "code",
        "colab": {}
      },
      "source": [
        "import pandas as pd\n",
        "import numpy as np"
      ],
      "execution_count": 0,
      "outputs": []
    },
    {
      "cell_type": "markdown",
      "metadata": {
        "id": "EE--Ejra5XsE",
        "colab_type": "text"
      },
      "source": [
        "# **Core components of pandas: Series and DataFrames**\n",
        "\n",
        "A Series is a data column<br>\n",
        "DataFrame is a multi-dimensional table made up of a collection of Series<br>"
      ]
    },
    {
      "cell_type": "code",
      "metadata": {
        "id": "6RwjovSa8bM2",
        "colab_type": "code",
        "colab": {}
      },
      "source": [
        "#Create a Panda series\n",
        "s = pd.Series([1, 3, 5, 6, 8])\n",
        "s"
      ],
      "execution_count": 0,
      "outputs": []
    },
    {
      "cell_type": "markdown",
      "metadata": {
        "id": "qKOEbQIn1_AU",
        "colab_type": "text"
      },
      "source": [
        "# **Assignment #1** \n",
        "Create a series called:<br>\n",
        ">towns\n",
        "With the following values:<br>\n",
        ">\"San Jose\", \"KaiserSlautern\", \"Bangkok\", \"Singapore\""
      ]
    },
    {
      "cell_type": "code",
      "metadata": {
        "id": "GYnQw9uW2vu9",
        "colab_type": "code",
        "colab": {}
      },
      "source": [
        "#Assignment #1"
      ],
      "execution_count": 0,
      "outputs": []
    },
    {
      "cell_type": "markdown",
      "metadata": {
        "id": "fscwPYQ43KXH",
        "colab_type": "text"
      },
      "source": [
        "**Create a dataframe from two or more series**<br>\n",
        "Use the form: <br>\n",
        "\n",
        ">pd.DataFrame({column name:series name, column name:series name})\n"
      ]
    },
    {
      "cell_type": "code",
      "metadata": {
        "id": "k4cDVtP33QbE",
        "colab_type": "code",
        "colab": {}
      },
      "source": [
        "city_names = pd.Series(['San Francisco', 'San Jose', 'Sacramento'])\n",
        "population = pd.Series([852469, 1015785, 485199])\n",
        "\n",
        "pd.DataFrame({ 'City name': city_names, 'Population': population })"
      ],
      "execution_count": 0,
      "outputs": []
    },
    {
      "cell_type": "markdown",
      "metadata": {
        "id": "NRpDLy003kvH",
        "colab_type": "text"
      },
      "source": [
        "# **Assignment #2**\n",
        "Create a series of students names. The series should be 6 elements long. <br>\n",
        "Create a series of students grades. The series should be 6 elements long<br>\n",
        "Combine the two series in to a DataFrame. "
      ]
    },
    {
      "cell_type": "code",
      "metadata": {
        "id": "EdmlGdN939Ov",
        "colab_type": "code",
        "colab": {}
      },
      "source": [
        "#Assignment #2\n"
      ],
      "execution_count": 0,
      "outputs": []
    },
    {
      "cell_type": "markdown",
      "metadata": {
        "id": "KWggVjLb7BSd",
        "colab_type": "text"
      },
      "source": [
        "**Create a DataFrame with unequal lengths of series**\n",
        "<br>\n",
        "This dataframe will be used lated in this course. \n"
      ]
    },
    {
      "cell_type": "code",
      "metadata": {
        "id": "UB7VzXwD6Iy-",
        "colab_type": "code",
        "colab": {}
      },
      "source": [
        "#There are 7 names in the student_names series\n",
        "student_names=pd.Series([\"bob\", \"ted\",\"alice\",\"max\",\"bill\", \"ida\", \"mark\"])\n",
        "#There are 5 id numbers in the student_id series\n",
        "student_id=pd.Series([112,113,114,115,116,])\n",
        "#The two DataFrames can still be combined into a DataFrame\n",
        "#Missing values are listed as NaN\n",
        "student_info = pd.DataFrame({ 'name': student_names, 'id': student_id })\n",
        "print(student_info)"
      ],
      "execution_count": 0,
      "outputs": []
    },
    {
      "cell_type": "markdown",
      "metadata": {
        "id": "fqdLiBApse5s",
        "colab_type": "text"
      },
      "source": [
        "**Remove from the dataframe any values that are missing**\n",
        "\n",
        "Use isna function to see the missing values<br>\n",
        "If the value is True, the data is missing"
      ]
    },
    {
      "cell_type": "code",
      "metadata": {
        "id": "I0cqQl4_sj1e",
        "colab_type": "code",
        "colab": {}
      },
      "source": [
        "student_info.isna()"
      ],
      "execution_count": 0,
      "outputs": []
    },
    {
      "cell_type": "markdown",
      "metadata": {
        "id": "klm1fHY4ur8S",
        "colab_type": "text"
      },
      "source": [
        "**Drop the rows that contain missing values**"
      ]
    },
    {
      "cell_type": "code",
      "metadata": {
        "id": "gagoyIfpuz6B",
        "colab_type": "code",
        "colab": {}
      },
      "source": [
        "student_info.dropna()"
      ],
      "execution_count": 0,
      "outputs": []
    },
    {
      "cell_type": "markdown",
      "metadata": {
        "id": "w1pAh8Cm54hp",
        "colab_type": "text"
      },
      "source": [
        "# **Assignment #3**\n",
        "Create a series of student_weights with 5 elements<br>\n",
        "Create a series of student_ages with 6 elements<br>\n",
        "Combine the two series into one DataFrame. One column should be called Student Weight, the other column should be called Student Age<br>\n",
        "Search for missing values"
      ]
    },
    {
      "cell_type": "code",
      "metadata": {
        "id": "gQP_HEl-7yGg",
        "colab_type": "code",
        "colab": {}
      },
      "source": [
        "#Assignment #3"
      ],
      "execution_count": 0,
      "outputs": []
    },
    {
      "cell_type": "markdown",
      "metadata": {
        "id": "rHY6FvOU4gsV",
        "colab_type": "text"
      },
      "source": [
        "# **Create a dataframe from a CSV file**"
      ]
    },
    {
      "cell_type": "markdown",
      "metadata": {
        "id": "Vf4g-V6s9H21",
        "colab_type": "text"
      },
      "source": [
        "Most of the time DataFrames are created from files. <br>\n",
        "Use the Pandas read_csv command to read a CSV file and load it as a DataFrame. "
      ]
    },
    {
      "cell_type": "code",
      "metadata": {
        "id": "FtCdoenG9JO5",
        "colab_type": "code",
        "colab": {}
      },
      "source": [
        "california_housing_dataframe = pd.read_csv(\"https://download.mlcc.google.com/mledu-datasets/california_housing_train.csv\", sep=\",\")\n",
        "california_housing_dataframe"
      ],
      "execution_count": 0,
      "outputs": []
    },
    {
      "cell_type": "markdown",
      "metadata": {
        "id": "0VXFKB9m8JfE",
        "colab_type": "text"
      },
      "source": [
        "**Print the last 5 rows in a dataset using the tail function. **"
      ]
    },
    {
      "cell_type": "code",
      "metadata": {
        "id": "JLnxfJmH85Ub",
        "colab_type": "code",
        "colab": {}
      },
      "source": [
        "california_housing_dataframe.tail()"
      ],
      "execution_count": 0,
      "outputs": []
    },
    {
      "cell_type": "markdown",
      "metadata": {
        "id": "NXwrGOZ59FQX",
        "colab_type": "text"
      },
      "source": [
        "# **Assignment #4**\n",
        "Print the first 5 rows of the california_housing_dataframe. <br>\n",
        "Use the head *function*"
      ]
    },
    {
      "cell_type": "code",
      "metadata": {
        "id": "XAP8Tn_u9Q0b",
        "colab_type": "code",
        "colab": {}
      },
      "source": [
        "#Assignment #4"
      ],
      "execution_count": 0,
      "outputs": []
    },
    {
      "cell_type": "markdown",
      "metadata": {
        "id": "OXcH_06S9yWG",
        "colab_type": "text"
      },
      "source": [
        "**Once data is in a Pandas dataframe, it can be manipulated with Pandas commands.** "
      ]
    },
    {
      "cell_type": "markdown",
      "metadata": {
        "id": "sUO5kgVe-2Y9",
        "colab_type": "text"
      },
      "source": [
        "In the example below, print all the sections where the houses have a median age less than or equal to 20. "
      ]
    },
    {
      "cell_type": "code",
      "metadata": {
        "id": "Ht9mDa6Y9ymB",
        "colab_type": "code",
        "colab": {}
      },
      "source": [
        "california_housing_dataframe.loc[(california_housing_dataframe[\"housing_median_age\"]<=20) ]"
      ],
      "execution_count": 0,
      "outputs": []
    },
    {
      "cell_type": "markdown",
      "metadata": {
        "id": "pbKevhqm_HcL",
        "colab_type": "text"
      },
      "source": [
        "# **Assignment #5**\n",
        "\n",
        "List all the sections where the median_income is greater than 3"
      ]
    },
    {
      "cell_type": "code",
      "metadata": {
        "id": "r7doLalODH-0",
        "colab_type": "code",
        "colab": {}
      },
      "source": [
        ""
      ],
      "execution_count": 0,
      "outputs": []
    },
    {
      "cell_type": "markdown",
      "metadata": {
        "id": "qe4oQF3IAsti",
        "colab_type": "text"
      },
      "source": [
        "**Pandas allows you to combine 2 or more data conditions**"
      ]
    },
    {
      "cell_type": "code",
      "metadata": {
        "id": "pR9rH8P_AYGS",
        "colab_type": "code",
        "colab": {}
      },
      "source": [
        "california_housing_dataframe.loc[(california_housing_dataframe[\"housing_median_age\"]<=20) & (california_housing_dataframe[\"median_income\"]> 3.0) ]"
      ],
      "execution_count": 0,
      "outputs": []
    },
    {
      "cell_type": "code",
      "metadata": {
        "id": "_Fjrxd3EJA3K",
        "colab_type": "code",
        "colab": {}
      },
      "source": [
        "california_housing_dataframe.describe()"
      ],
      "execution_count": 0,
      "outputs": []
    },
    {
      "cell_type": "markdown",
      "metadata": {
        "id": "2Z89Gf5bBYx0",
        "colab_type": "text"
      },
      "source": [
        "# **Assignment #6**\n",
        "\n",
        "List all the sections of california_house_dataframe that:\n",
        "1. That have less than 200 bedrooms\n",
        "2. And have a median imcome greater than 4.0"
      ]
    },
    {
      "cell_type": "markdown",
      "metadata": {
        "id": "LmP3tyjKB_cT",
        "colab_type": "text"
      },
      "source": [
        "# **Check for missing data and count them**\n",
        "\n",
        "1. Create a function that returns the sum of all the missing values\n",
        "2. Apply the functon to the dataset"
      ]
    },
    {
      "cell_type": "code",
      "metadata": {
        "id": "yam4EINIB_nt",
        "colab_type": "code",
        "colab": {}
      },
      "source": [
        "#Create a new function:\n",
        "def num_missing(x):\n",
        "  return sum(x.isnull())\n",
        "\n",
        "#Applying per column:\n",
        "print (\"Missing values per column:\")\n",
        "print (california_housing_dataframe.apply(num_missing, axis=0)) #axis=0 defines that function is to be applied on each column\n",
        "\n",
        "#Applying per row:\n",
        "print (\"\\nMissing values per row:\")\n",
        "print (california_housing_dataframe.apply(num_missing, axis=1).head()) #axis=1 defines that function is to be applied on each row"
      ],
      "execution_count": 0,
      "outputs": []
    },
    {
      "cell_type": "markdown",
      "metadata": {
        "id": "DaUrlCsoDXM7",
        "colab_type": "text"
      },
      "source": [
        "# **Assignment #7**\n",
        "\n",
        "Use the dataframe called student_info<br>\n",
        "Use the num_missing function to list the missing data"
      ]
    },
    {
      "cell_type": "code",
      "metadata": {
        "id": "OD-B5x_rDXfp",
        "colab_type": "code",
        "colab": {}
      },
      "source": [
        ""
      ],
      "execution_count": 0,
      "outputs": []
    },
    {
      "cell_type": "markdown",
      "metadata": {
        "id": "zM4tJCCzEki9",
        "colab_type": "text"
      },
      "source": [
        "**Assignment #7 cont.**\n",
        "<br>\n",
        "Fix the missing values and run the num_missing function again. "
      ]
    },
    {
      "cell_type": "code",
      "metadata": {
        "id": "BaP-oNRCIXeQ",
        "colab_type": "code",
        "colab": {}
      },
      "source": [
        ""
      ],
      "execution_count": 0,
      "outputs": []
    },
    {
      "cell_type": "markdown",
      "metadata": {
        "id": "1DajkgFcIYHn",
        "colab_type": "text"
      },
      "source": [
        "# **Using Pandas with Problem CSV Files**\n",
        "\n",
        "Sometimes there are problems with a CSV file and you may not even be able to read it in correctly. \n",
        "For example in the example below when trying to read in a CSV file, an error occurs. "
      ]
    },
    {
      "cell_type": "code",
      "metadata": {
        "id": "NSSTTXbF90aB",
        "colab_type": "code",
        "colab": {}
      },
      "source": [
        "df2 = pd.read_csv(\"deniro.csv\", sep=\",\")\n",
        "df2"
      ],
      "execution_count": 0,
      "outputs": []
    },
    {
      "cell_type": "markdown",
      "metadata": {
        "id": "SAojwakCOASa",
        "colab_type": "text"
      },
      "source": [
        "The problem with this file is hard to find because we can't even load the file. <br>\n",
        "To fix this problem, load the file and ignore all the lines that are bad. "
      ]
    },
    {
      "cell_type": "code",
      "metadata": {
        "id": "CWHuc2vyN_pb",
        "colab_type": "code",
        "colab": {}
      },
      "source": [
        "df2 = pd.read_csv(\"deniro.csv\", sep=\",\",error_bad_lines=False)\n",
        "df2"
      ],
      "execution_count": 0,
      "outputs": []
    },
    {
      "cell_type": "markdown",
      "metadata": {
        "id": "peu6-MNxPn1q",
        "colab_type": "text"
      },
      "source": [
        "# **Assignment #8**\n",
        "\n",
        "1. Figure out what lines were skipped and why. <br>\n",
        "Hint: \n",
        "use cat to read the file<br>\n",
        "2. Add those lines to the dataframe\n",
        "\n",
        "<br>\n",
        "As an example: I have added a row to the dataframe for you. \n",
        "\n"
      ]
    },
    {
      "cell_type": "code",
      "metadata": {
        "id": "gjQtDjVXcpcA",
        "colab_type": "code",
        "colab": {}
      },
      "source": [
        "#Print the column names with the columns command\n",
        "df2.columns"
      ],
      "execution_count": 0,
      "outputs": []
    },
    {
      "cell_type": "code",
      "metadata": {
        "id": "_-NN_RYtRhDR",
        "colab_type": "code",
        "colab": {}
      },
      "source": [
        "#Create a dataFrame for the new row\n",
        "df_add = pd.DataFrame([[1970, 73, \"Hi Mom!\"]], columns =(['Year', ' Score', ' Title'], dtype='object'))\n",
        "df_add"
      ],
      "execution_count": 0,
      "outputs": []
    },
    {
      "cell_type": "code",
      "metadata": {
        "id": "9T2jIW11jqn6",
        "colab_type": "code",
        "colab": {}
      },
      "source": [
        "#append the two dataFrames\n",
        "df3 = df2.append(df_add,sort=True, ignore_index=True)\n",
        "df3"
      ],
      "execution_count": 0,
      "outputs": []
    },
    {
      "cell_type": "code",
      "metadata": {
        "id": "f0-0AEgx-I4T",
        "colab_type": "code",
        "colab": {}
      },
      "source": [
        "#Sort the dataframe by Year\n",
        "df3.sort_values(by='Year')"
      ],
      "execution_count": 0,
      "outputs": []
    },
    {
      "cell_type": "code",
      "metadata": {
        "id": "cNYK5BMaCL_q",
        "colab_type": "code",
        "colab": {}
      },
      "source": [
        "#Assignment 8\n",
        "#Add the other rows that had errors"
      ],
      "execution_count": 0,
      "outputs": []
    },
    {
      "cell_type": "markdown",
      "metadata": {
        "id": "dtB1_3UJI9xs",
        "colab_type": "text"
      },
      "source": [
        "**DataFrames can be Sorted by an axis:**<br>\n"
      ]
    },
    {
      "cell_type": "code",
      "metadata": {
        "id": "pmjfB2uLI-mv",
        "colab_type": "code",
        "colab": {}
      },
      "source": [
        "df3.sort_index(axis=1, ascending=False)"
      ],
      "execution_count": 0,
      "outputs": []
    },
    {
      "cell_type": "markdown",
      "metadata": {
        "id": "lsz-lc_wu7CP",
        "colab_type": "text"
      },
      "source": [
        "# **Assignment #9**\n",
        "\n",
        "1. Load **letter_frequency.csv** into a dataframe.\n",
        "2. Sort based on percentage\n",
        "3. Print out the consonant that have a higher percentage of frequency than the letter \"U\""
      ]
    },
    {
      "cell_type": "code",
      "metadata": {
        "id": "WWXvrwJxu7Om",
        "colab_type": "code",
        "colab": {}
      },
      "source": [
        ""
      ],
      "execution_count": 0,
      "outputs": []
    },
    {
      "cell_type": "markdown",
      "metadata": {
        "id": "naxWILsG-sxC",
        "colab_type": "text"
      },
      "source": [
        "**When reading in CSV files, you must really understand your data **<br>\n",
        "\n",
        "Print out the column names<br>\n",
        ">print(dataframe-name.columns)<br>\n",
        "Print out a row<br>\n",
        ">print(dataframe-name.loc[[row#]])<br>\n",
        "Print out a specific value<br>\n",
        ">dataframe-name.at[row#, column name]"
      ]
    },
    {
      "cell_type": "code",
      "metadata": {
        "id": "wLtRGDvd5bI0",
        "colab_type": "code",
        "colab": {}
      },
      "source": [
        "print(letters.loc[[0]])"
      ],
      "execution_count": 0,
      "outputs": []
    },
    {
      "cell_type": "code",
      "metadata": {
        "id": "lr1O4F0a-O3u",
        "colab_type": "code",
        "colab": {}
      },
      "source": [
        "letters.at[0,'Letter']"
      ],
      "execution_count": 0,
      "outputs": []
    },
    {
      "cell_type": "code",
      "metadata": {
        "id": "gbKRHaIB1zVZ",
        "colab_type": "code",
        "colab": {}
      },
      "source": [
        "letters.loc[(letters[' \"Percentage\"'] > 2.7) & (letters[\"Letter\"] != '    \"A\"' ) & (letters[\"Letter\"] != '    \"E\"' ) & (letters[\"Letter\"] != '    \"I\"' ) &\n",
        "(letters[\"Letter\"] != '    \"O\"' ) ]\n"
      ],
      "execution_count": 0,
      "outputs": []
    }
  ]
}