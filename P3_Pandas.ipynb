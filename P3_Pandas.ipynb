{
  "nbformat": 4,
  "nbformat_minor": 0,
  "metadata": {
    "colab": {
      "name": "P3 Pandas.ipynb",
      "provenance": [],
      "private_outputs": true,
      "collapsed_sections": [],
      "authorship_tag": "ABX9TyMdqKPY3zYw+XMkubvgpA43",
      "include_colab_link": true
    },
    "kernelspec": {
      "name": "python3",
      "display_name": "Python 3"
    }
  },
  "cells": [
    {
      "cell_type": "markdown",
      "metadata": {
        "id": "view-in-github",
        "colab_type": "text"
      },
      "source": [
        "<a href=\"https://colab.research.google.com/github/cagBRT/Intro-to-Pandas/blob/master/P3_Pandas.ipynb\" target=\"_parent\"><img src=\"https://colab.research.google.com/assets/colab-badge.svg\" alt=\"Open In Colab\"/></a>"
      ]
    },
    {
      "cell_type": "code",
      "metadata": {
        "id": "XsjUJ-sYbf1n",
        "colab_type": "code",
        "colab": {}
      },
      "source": [
        "# Clone the entire repo.\n",
        "!git clone -l -s https://github.com/cagBRT/Intro-to-Pandas.git cloned-repo\n",
        "%cd cloned-repo\n",
        "!ls"
      ],
      "execution_count": 0,
      "outputs": []
    },
    {
      "cell_type": "markdown",
      "metadata": {
        "id": "FZnNegNyaZso",
        "colab_type": "text"
      },
      "source": [
        "Looking at the Titanic dataset. "
      ]
    },
    {
      "cell_type": "code",
      "metadata": {
        "id": "6Rdm46giadzt",
        "colab_type": "code",
        "colab": {}
      },
      "source": [
        "#Load the Pandas library\n",
        "import pandas as pd"
      ],
      "execution_count": 0,
      "outputs": []
    },
    {
      "cell_type": "code",
      "metadata": {
        "id": "6xE-5IH7aYvz",
        "colab_type": "code",
        "colab": {}
      },
      "source": [
        "# Load the train and test datasets to create two DataFrames\n",
        "train = pd.read_csv(\"trainTitanic.csv\")\n",
        "\n",
        "test = pd.read_csv(\"testTitanic.csv\")\n",
        "train.head()"
      ],
      "execution_count": 0,
      "outputs": []
    },
    {
      "cell_type": "markdown",
      "metadata": {
        "id": "xr0-06Paa40a",
        "colab_type": "text"
      },
      "source": [
        "Look at the test and training sets using head, tail, and/or describe"
      ]
    },
    {
      "cell_type": "code",
      "metadata": {
        "id": "ICCSKTuma49A",
        "colab_type": "code",
        "colab": {}
      },
      "source": [
        ""
      ],
      "execution_count": 0,
      "outputs": []
    },
    {
      "cell_type": "code",
      "metadata": {
        "id": "UaQ9J371bE3r",
        "colab_type": "code",
        "colab": {}
      },
      "source": [
        ""
      ],
      "execution_count": 0,
      "outputs": []
    },
    {
      "cell_type": "markdown",
      "metadata": {
        "id": "Mg3zzWmYVxko",
        "colab_type": "text"
      },
      "source": [
        "What is the shape of the training and test sets? "
      ]
    },
    {
      "cell_type": "code",
      "metadata": {
        "id": "RlyYb2jNbPQa",
        "colab_type": "code",
        "colab": {}
      },
      "source": [
        ""
      ],
      "execution_count": 0,
      "outputs": []
    },
    {
      "cell_type": "code",
      "metadata": {
        "id": "HU1xqVAabdMn",
        "colab_type": "code",
        "colab": {}
      },
      "source": [
        "train[\"Survived\"].value_counts()"
      ],
      "execution_count": 0,
      "outputs": []
    },
    {
      "cell_type": "markdown",
      "metadata": {
        "id": "YlGXcUiLXT6r",
        "colab_type": "text"
      },
      "source": [
        "How many people survived? "
      ]
    },
    {
      "cell_type": "code",
      "metadata": {
        "id": "NzQzWcFmbje-",
        "colab_type": "code",
        "colab": {}
      },
      "source": [
        "# absolute numbers\n",
        "train[\"Survived\"].value_counts()"
      ],
      "execution_count": 0,
      "outputs": []
    },
    {
      "cell_type": "markdown",
      "metadata": {
        "id": "lj_ygfH8XW0P",
        "colab_type": "text"
      },
      "source": [
        "What is the percentage of people that survived? "
      ]
    },
    {
      "cell_type": "code",
      "metadata": {
        "id": "OTjuBy0LXDzw",
        "colab_type": "code",
        "colab": {}
      },
      "source": [
        "# percentages\n",
        "train[\"Survived\"].value_counts(normalize = True)"
      ],
      "execution_count": 0,
      "outputs": []
    },
    {
      "cell_type": "markdown",
      "metadata": {
        "id": "gerS58ltXP5t",
        "colab_type": "text"
      },
      "source": [
        "How many males and females survived? "
      ]
    },
    {
      "cell_type": "code",
      "metadata": {
        "id": "RNN7GRtpb6jP",
        "colab_type": "code",
        "colab": {}
      },
      "source": [
        "train[\"Survived\"][train[\"Sex\"] == 'male'].value_counts()\n",
        "train[\"Survived\"][train[\"Sex\"] == 'female'].value_counts()"
      ],
      "execution_count": 0,
      "outputs": []
    },
    {
      "cell_type": "markdown",
      "metadata": {
        "id": "WePfuJP-YJA2",
        "colab_type": "text"
      },
      "source": [
        ""
      ]
    },
    {
      "cell_type": "code",
      "metadata": {
        "id": "vaGIz3KzYJO9",
        "colab_type": "code",
        "colab": {}
      },
      "source": [
        "train.sort_values(\"Fare\")"
      ],
      "execution_count": 0,
      "outputs": []
    },
    {
      "cell_type": "code",
      "metadata": {
        "id": "ac75HyHmYWOs",
        "colab_type": "code",
        "colab": {}
      },
      "source": [
        "kid = train[\"Survived\"][train[\"Age\"] <= 16]\n",
        "print(kid)"
      ],
      "execution_count": 0,
      "outputs": []
    },
    {
      "cell_type": "code",
      "metadata": {
        "id": "TTL7Z4xcaS3-",
        "colab_type": "code",
        "colab": {}
      },
      "source": [
        "train.nunique()"
      ],
      "execution_count": 0,
      "outputs": []
    },
    {
      "cell_type": "code",
      "metadata": {
        "id": "X_jdezk1atew",
        "colab_type": "code",
        "colab": {}
      },
      "source": [
        "test.nunique()"
      ],
      "execution_count": 0,
      "outputs": []
    },
    {
      "cell_type": "code",
      "metadata": {
        "id": "t8GEW-m6dVD0",
        "colab_type": "code",
        "colab": {}
      },
      "source": [
        "train[\"Embarked\"] = train[\"Embarked\"].astype(\"category\")\n",
        "train[\"Embarked\"].dtype\n",
        "\n",
        "train.head()"
      ],
      "execution_count": 0,
      "outputs": []
    },
    {
      "cell_type": "markdown",
      "metadata": {
        "id": "DnfEMR8Lgdne",
        "colab_type": "text"
      },
      "source": [
        ""
      ]
    },
    {
      "cell_type": "code",
      "metadata": {
        "id": "QP41VJrigdy-",
        "colab_type": "code",
        "colab": {}
      },
      "source": [
        "train.sort_values(\"Cabin\", ascending = True, na_position ='last')"
      ],
      "execution_count": 0,
      "outputs": []
    },
    {
      "cell_type": "markdown",
      "metadata": {
        "id": "E9cJ-yWjg_BO",
        "colab_type": "text"
      },
      "source": [
        "**Creating a Mask**<br>\n",
        "Filtering 2 or more conditions<br>\n",
        "Using the and logic function"
      ]
    },
    {
      "cell_type": "code",
      "metadata": {
        "id": "oHSQQvu2hFkA",
        "colab_type": "code",
        "colab": {}
      },
      "source": [
        "#Women who paid less than 50 dollars fare \n",
        "\n",
        "train_fare_mask = train[\"Fare\"] < 50\n",
        "train_sex_mask = train[\"Sex\"] == \"female\"\n",
        "train[train_fare_mask & train_sex_mask]"
      ],
      "execution_count": 0,
      "outputs": []
    },
    {
      "cell_type": "markdown",
      "metadata": {
        "id": "lf4XkG6xhoGO",
        "colab_type": "text"
      },
      "source": [
        "Filtering with the OR logic function"
      ]
    },
    {
      "cell_type": "code",
      "metadata": {
        "id": "n_TlC0CRhoQq",
        "colab_type": "code",
        "colab": {}
      },
      "source": [
        "#Passengers who paid more than $500 fare or are over 70 years old\n",
        "train_fare_mask2 = train[\"Fare\"] > 500\n",
        "train_age_mask = train[\"Age\"] > 70\n",
        "train[train_fare_mask2 | train_age_mask]"
      ],
      "execution_count": 0,
      "outputs": []
    },
    {
      "cell_type": "markdown",
      "metadata": {
        "id": "B9ZUgjd6iR7t",
        "colab_type": "text"
      },
      "source": [
        "**Finding the Null values**"
      ]
    },
    {
      "cell_type": "code",
      "metadata": {
        "id": "sgA0wGfmiSGU",
        "colab_type": "code",
        "colab": {}
      },
      "source": [
        "#All the passengers that have no cabin listing\n",
        "null_mask = train[\"Cabin\"].isnull()\n",
        "train[null_mask]"
      ],
      "execution_count": 0,
      "outputs": []
    },
    {
      "cell_type": "code",
      "metadata": {
        "id": "8L5A3SZ5ijuj",
        "colab_type": "code",
        "colab": {}
      },
      "source": [
        "#The sum of all the missing data\n",
        "train.isnull().sum()"
      ],
      "execution_count": 0,
      "outputs": []
    },
    {
      "cell_type": "markdown",
      "metadata": {
        "id": "yq5B0clMi03v",
        "colab_type": "text"
      },
      "source": [
        "**Drop columns**<br>\n",
        "If a column has a lot of missing data, it might be best to drop it. "
      ]
    },
    {
      "cell_type": "code",
      "metadata": {
        "id": "6b9uZt_QivsH",
        "colab_type": "code",
        "colab": {}
      },
      "source": [
        "train.drop(labels = [\"Cabin\"], axis=1).head()"
      ],
      "execution_count": 0,
      "outputs": []
    },
    {
      "cell_type": "markdown",
      "metadata": {
        "id": "6N6B7hOzjI7k",
        "colab_type": "text"
      },
      "source": [
        "**Drop columns**<br>\n",
        "More than one column can be dropped at a time"
      ]
    },
    {
      "cell_type": "code",
      "metadata": {
        "id": "T_yoBnM1jGbN",
        "colab_type": "code",
        "colab": {}
      },
      "source": [
        "train.drop(labels = [\"Cabin\", \"Name\"], axis=1).head()"
      ],
      "execution_count": 0,
      "outputs": []
    },
    {
      "cell_type": "markdown",
      "metadata": {
        "id": "v7vwMUVrjcB2",
        "colab_type": "text"
      },
      "source": [
        "**Fill missing data** "
      ]
    },
    {
      "cell_type": "code",
      "metadata": {
        "id": "JRq4uRzAjcNE",
        "colab_type": "code",
        "colab": {}
      },
      "source": [
        "train[\"columnname\"].fillna(0, inplace = True) #with inplace argument, we don't have to write it as\n",
        "train[\"columnname\"] = train[\"columnname\"].fillna(0, inplace = True)"
      ],
      "execution_count": 0,
      "outputs": []
    },
    {
      "cell_type": "code",
      "metadata": {
        "id": "K1ukre61kJ8x",
        "colab_type": "code",
        "colab": {}
      },
      "source": [
        "train[\"Age\"].fillna(\"Unknown\", inplace = True)\n",
        "train\n",
        "\n",
        "train['Age'] = train['Age'].fillna((train['Age'].median()))"
      ],
      "execution_count": 0,
      "outputs": []
    }
  ]
}